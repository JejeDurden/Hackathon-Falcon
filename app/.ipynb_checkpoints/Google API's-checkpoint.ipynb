{
 "cells": [
  {
   "cell_type": "markdown",
   "metadata": {},
   "source": [
    "# Import"
   ]
  },
  {
   "cell_type": "code",
   "execution_count": 14,
   "metadata": {
    "collapsed": true
   },
   "outputs": [],
   "source": [
    "import recastai\n",
    "    \n",
    "    \n",
    "def get_intent(text,lang=\"fr\"):\n",
    "    client = recastai.Client('f355b23fca612aba830c8754ee57c8c0', lang)\n",
    "    response = client.request.analyse_text(text)\n",
    "    return response\n",
    "\n",
    "def action(response):\n",
    "    if response.intent.slug == 'YOUR_EXPECTED_INTENT':\n",
    "        #\"\"\"Do your code...\"\"\"\n",
    "        return\n",
    "    return"
   ]
  },
  {
   "cell_type": "code",
   "execution_count": 18,
   "metadata": {},
   "outputs": [
    {
     "data": {
      "text/plain": [
       "u'envie'"
      ]
     },
     "execution_count": 18,
     "metadata": {},
     "output_type": "execute_result"
    }
   ],
   "source": [
    "get_intent(\"Quel champagne pour notre vol de demain?\").intent.slug"
   ]
  },
  {
   "cell_type": "code",
   "execution_count": null,
   "metadata": {
    "collapsed": true
   },
   "outputs": [],
   "source": []
  },
  {
   "cell_type": "code",
   "execution_count": null,
   "metadata": {
    "collapsed": true
   },
   "outputs": [],
   "source": []
  },
  {
   "cell_type": "code",
   "execution_count": null,
   "metadata": {
    "collapsed": true
   },
   "outputs": [],
   "source": []
  },
  {
   "cell_type": "code",
   "execution_count": null,
   "metadata": {
    "collapsed": true
   },
   "outputs": [],
   "source": [
    "from __future__ import print_function\n",
    "import httplib2\n",
    "import os\n",
    "\n",
    "from apiclient import discovery\n",
    "import oauth2client\n",
    "from oauth2client import client\n",
    "from oauth2client import tools\n",
    "\n",
    "import datetime\n",
    "\n",
    "try:\n",
    "    import argparse\n",
    "    flags = argparse.ArgumentParser(parents=[tools.argparser]).parse_args()\n",
    "except ImportError:\n",
    "    flags = None\n",
    "\n",
    "# If modifying these scopes, delete your previously saved credentials\n",
    "# at ~/.credentials/calendar-python-quickstart.json\n",
    "SCOPES = 'https://www.googleapis.com/auth/calendar'\n",
    "CLIENT_SECRET_FILE = 'client_secret.json'\n",
    "APPLICATION_NAME = 'Google Calendar API Python Quickstart'\n",
    "\n",
    "\n",
    "def get_credentials():\n",
    "    \"\"\"Gets valid user credentials from storage.\n",
    "\n",
    "    If nothing has been stored, or if the stored credentials are invalid,\n",
    "    the OAuth2 flow is completed to obtain the new credentials.\n",
    "\n",
    "    Returns:\n",
    "        Credentials, the obtained credential.\n",
    "    \"\"\"\n",
    "    home_dir = os.path.expanduser('~')\n",
    "    credential_dir = os.path.join(home_dir, '.credentials')\n",
    "    if not os.path.exists(credential_dir):\n",
    "        os.makedirs(credential_dir)\n",
    "    credential_path = os.path.join(credential_dir,\n",
    "                                   'calendar-python-quickstart.json')\n",
    "\n",
    "    store = oauth2client.file.Storage(credential_path)\n",
    "    credentials = store.get()\n",
    "    if not credentials or credentials.invalid:\n",
    "        flow = client.flow_from_clientsecrets(CLIENT_SECRET_FILE, SCOPES)\n",
    "        flow.user_agent = APPLICATION_NAME\n",
    "        if flags:\n",
    "            credentials = tools.run_flow(flow, store, flags)\n",
    "        else: # Needed only for compatibility with Python 2.6\n",
    "            credentials = tools.run(flow, store)\n",
    "        print('Storing credentials to ' + credential_path)\n",
    "    return credentials\n",
    "\n",
    "def main():\n",
    "    \"\"\"Shows basic usage of the Google Calendar API.\n",
    "\n",
    "    Creates a Google Calendar API service object and outputs a list of the next\n",
    "    10 events on the user's calendar.\n",
    "    \"\"\"\n",
    "    credentials = get_credentials()\n",
    "    http = credentials.authorize(httplib2.Http())\n",
    "    service = discovery.build('calendar', 'v3', http=http)\n",
    "\n",
    "    # Refer to the Python quickstart on how to setup the environment:\n",
    "    # https://developers.google.com/google-apps/calendar/quickstart/python\n",
    "    # Change the scope to 'https://www.googleapis.com/auth/calendar' and delete any\n",
    "    # stored credentials.\n",
    "\n",
    "    event = {\n",
    "      'summary': 'Google I/O 2015',\n",
    "      'location': '800 Howard St., San Francisco, CA 94103',\n",
    "      'description': 'A chance to hear more about Google\\'s developer products.',\n",
    "      'start': {\n",
    "        'dateTime': '2016-09-28T09:00:00-07:00',\n",
    "        'timeZone': 'America/Los_Angeles',\n",
    "      },\n",
    "      'end': {\n",
    "        'dateTime': '2016-09-28T17:00:00-07:00',\n",
    "        'timeZone': 'America/Los_Angeles',\n",
    "      },\n",
    "      'recurrence': [\n",
    "        'RRULE:FREQ=DAILY;COUNT=2'\n",
    "      ],\n",
    "      'attendees': [\n",
    "        {'email': 'lpage@example.com'},\n",
    "        {'email': 'sbrin@example.com'},\n",
    "      ],\n",
    "      'reminders': {\n",
    "        'useDefault': False,\n",
    "        'overrides': [\n",
    "          {'method': 'email', 'minutes': 24 * 60},\n",
    "          {'method': 'popup', 'minutes': 10},\n",
    "        ],\n",
    "      },\n",
    "    }\n",
    "\n",
    "    event = service.events().insert(calendarId='primary', body=event).execute()\n",
    "    print ('Event created: %s' % (event.get('htmlLink')))\n",
    "\n",
    "if __name__ == '__main__':\n",
    "    main()"
   ]
  },
  {
   "cell_type": "code",
   "execution_count": 10,
   "metadata": {
    "collapsed": true
   },
   "outputs": [],
   "source": [
    "from gtts import gTTS\n",
    "import os\n",
    "\n",
    "\n",
    "def save_speech(text,path = \"data/\",filename=\"answer.mp3\",lang=\"fr\"):\n",
    "    if not os.path.exists(path):\n",
    "        os.makedirs(path)\n",
    "    tts = gTTS(text=text, lang=lang)\n",
    "    tts.save(path+filename)\n",
    "    print(\"save at %s\" %path+filename)\n",
    "    return"
   ]
  },
  {
   "cell_type": "code",
   "execution_count": 13,
   "metadata": {},
   "outputs": [
    {
     "name": "stdout",
     "output_type": "stream",
     "text": [
      "save at data/answer.mp3\n"
     ]
    }
   ],
   "source": [
    "save_speech(\"Jerome tu suces\",path = \"data/\",filename=\"answer.mp3\",lang=\"fr\")"
   ]
  },
  {
   "cell_type": "code",
   "execution_count": null,
   "metadata": {
    "collapsed": true
   },
   "outputs": [],
   "source": [
    "s.path.join()"
   ]
  }
 ],
 "metadata": {
  "kernelspec": {
   "display_name": "Python 2",
   "language": "python",
   "name": "python2"
  },
  "language_info": {
   "codemirror_mode": {
    "name": "ipython",
    "version": 2
   },
   "file_extension": ".py",
   "mimetype": "text/x-python",
   "name": "python",
   "nbconvert_exporter": "python",
   "pygments_lexer": "ipython2",
   "version": "2.7.13"
  }
 },
 "nbformat": 4,
 "nbformat_minor": 2
}
